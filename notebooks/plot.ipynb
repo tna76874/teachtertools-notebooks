{
 "cells": [
  {
   "cell_type": "code",
   "execution_count": null,
   "id": "a7e5e204-ca65-4441-80b3-47756d1f0901",
   "metadata": {},
   "outputs": [],
   "source": [
    "from modules.figures import *\n",
    "\n",
    "# symbolische Funktion definieren\n",
    "x = sp.symbols('x', real=True)\n",
    "f = sp.Rational(1,2)*x**2\n",
    "\n",
    "# x und y-Werte generieren\n",
    "X = np.linspace(-3,3,100)\n",
    "f_l = lambdify(x,f)\n",
    "Y = f_l(X)\n",
    "\n",
    "# Figure Objekt initialisieren\n",
    "F = plotfig(h=1,v=1,size=1.5,sharex=True,sharey=True,wspace = 0.2,hspace = 0.2,figsize=[6,2])\n",
    "\n",
    "# plotten\n",
    "F.ax[0].plot(X,Y)\n",
    "\n",
    "# Plotstyle setzen\n",
    "F.arrowed_spines(equal=True,delta=0.3)\n",
    "\n",
    "# Funktion beschriften\n",
    "F.ax[0].annotate(r\"f(x) = ${:}$\".format(sp.latex(f)), xy=(1,0), xytext=(0.5, f_l(3)-1), ha='left', va='center', fontsize=14)\n",
    "\n",
    "\n",
    "# Gitterlinien festlegen\n",
    "F.grid([1,1,None,None])\n",
    "\n",
    "# Speichern\n",
    "F.save('parabel',format='pdf')"
   ]
  },
  {
   "cell_type": "code",
   "execution_count": null,
   "id": "bd0891e3-c753-4ed4-85ca-780016ba633d",
   "metadata": {},
   "outputs": [],
   "source": []
  }
 ],
 "metadata": {
  "kernelspec": {
   "display_name": "Python 3 (ipykernel)",
   "language": "python",
   "name": "python3"
  },
  "language_info": {
   "codemirror_mode": {
    "name": "ipython",
    "version": 3
   },
   "file_extension": ".py",
   "mimetype": "text/x-python",
   "name": "python",
   "nbconvert_exporter": "python",
   "pygments_lexer": "ipython3",
   "version": "3.8.13"
  }
 },
 "nbformat": 4,
 "nbformat_minor": 5
}
