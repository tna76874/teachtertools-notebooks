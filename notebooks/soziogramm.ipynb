{
 "cells": [
  {
   "cell_type": "code",
   "execution_count": null,
   "id": "d3a96ea7-814b-4e36-ac75-ca0f78835eb9",
   "metadata": {},
   "outputs": [],
   "source": [
    "import matplotlib.pyplot as plt\n",
    "import networkx as nx\n",
    "import pandas as pd\n",
    "from itertools import combinations,chain"
   ]
  },
  {
   "cell_type": "code",
   "execution_count": null,
   "id": "05d414c9-a452-4996-9bd0-88fee6e38a96",
   "metadata": {},
   "outputs": [],
   "source": [
    "names = pd.read_csv('namen.csv')\n",
    "\n",
    "pairs = list()\n",
    "personen = list()\n",
    "for i in names.index:\n",
    "    n = [k for k in names.loc[i,:].values if pd.notnull(k)]\n",
    "    personen += n\n",
    "    pairs += [tuple(set([n[0],k])) for k in n[1:]]\n",
    "pairs = {x:pairs.count(x) for x in pairs}\n",
    "personen = list(set(personen))\n",
    "print(\"In der Klasse sind {:} Personen.\".format(len(personen)))\n",
    "\n",
    "G = nx.Graph()\n",
    "G.add_nodes_from(personen)\n",
    "for k,v in pairs.items():\n",
    "    try: G.add_edge(k[0], k[1], weight=v)\n",
    "    except: pass\n",
    "pos = nx.spring_layout(G)\n",
    "\n",
    "fig, ax = plt.subplots(1,1,figsize=(11.69,8.27))\n",
    "nx.draw_networkx(G, pos, with_labels=True,ax=ax,font_color='red')\n",
    "ax.set_aspect('equal')\n",
    "plt.box(False)\n",
    "fig.savefig(\"soziogramm.pdf\")"
   ]
  }
 ],
 "metadata": {
  "kernelspec": {
   "display_name": "Python 3 (ipykernel)",
   "language": "python",
   "name": "python3"
  },
  "language_info": {
   "codemirror_mode": {
    "name": "ipython",
    "version": 3
   },
   "file_extension": ".py",
   "mimetype": "text/x-python",
   "name": "python",
   "nbconvert_exporter": "python",
   "pygments_lexer": "ipython3",
   "version": "3.8.13"
  }
 },
 "nbformat": 4,
 "nbformat_minor": 5
}
